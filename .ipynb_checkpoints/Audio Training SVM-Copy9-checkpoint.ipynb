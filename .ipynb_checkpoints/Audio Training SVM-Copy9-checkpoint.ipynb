{
 "cells": [
  {
   "cell_type": "code",
   "execution_count": 2,
   "metadata": {},
   "outputs": [],
   "source": [
    "import numpy as np\n",
    "import scipy.io.wavfile\n",
    "from scipy.fftpack import dct\n",
    "get_ipython().run_line_magic('matplotlib', 'inline')\n",
    "import matplotlib.pyplot as plt\n",
    "import string\n",
    "import pandas as pd\n",
    "import glob \n",
    "import os\n",
    "import random\n",
    "import librosa\n"
   ]
  },
  {
   "cell_type": "code",
   "execution_count": 2,
   "metadata": {},
   "outputs": [],
   "source": [
    "def parser(row):\n",
    "    file_name = os.path.join(\"six_sec_glass\", 'Train ('+ str(row) + ')'+'.wav')\n",
    "    try:\n",
    "        Y, sample_rate = librosa.load(file_name, res_type='kaiser_fast',sr=16000,mono=True) \n",
    "        pre_emphasis = 2\n",
    "        X = np.append(Y[0], Y[1:] - pre_emphasis * Y[:-1])\n",
    "        stft = np.abs(librosa.stft(X,n_fft=512,hop_length=168,win_length=500))\n",
    "        mfccs = np.mean(librosa.feature.mfcc(y=X, sr=sample_rate, n_mfcc=40).T,axis=0) \n",
    "        contrast = np.mean(librosa.feature.spectral_contrast(S=stft, sr=sample_rate).T,axis=0)\n",
    "        tonnetz = np.mean(librosa.feature.tonnetz(y=librosa.effects.harmonic(X),sr=sample_rate).T,axis=0)\n",
    "        mel = np.mean(librosa.feature.melspectrogram(X, sr=sample_rate).T,axis=0)\n",
    "        chroma = np.mean(librosa.feature.chroma_stft(S=stft, sr=sample_rate).T,axis=0)\n",
    "    except Exception as e:\n",
    "        print(\"Error encountered while parsing file: \", file)\n",
    "        return None, None\n",
    "    \n",
    "    print(row)\n",
    "    return mfccs,mel,contrast,tonnetz,row\n"
   ]
  },
  {
   "cell_type": "code",
   "execution_count": 3,
   "metadata": {},
   "outputs": [],
   "source": [
    "def parser2(row):\n",
    "    file_name = os.path.join(\"special_metal\", 'metal'+ str(row) + '.wav')\n",
    "    try:\n",
    "        Y, sample_rate = librosa.load(file_name, res_type='kaiser_fast',sr=16000,mono=True) \n",
    "        pre_emphasis = 2\n",
    "        X = np.append(Y[0], Y[1:] - pre_emphasis * Y[:-1])\n",
    "        stft = np.abs(librosa.stft(X,n_fft=512,hop_length=168,win_length=500))\n",
    "        mfccs = np.mean(librosa.feature.mfcc(y=X, sr=sample_rate, n_mfcc=40).T,axis=0) \n",
    "        contrast = np.mean(librosa.feature.spectral_contrast(S=stft, sr=sample_rate).T,axis=0)\n",
    "        tonnetz = np.mean(librosa.feature.tonnetz(y=librosa.effects.harmonic(X),sr=sample_rate).T,axis=0)\n",
    "        mel = np.mean(librosa.feature.melspectrogram(X, sr=sample_rate).T,axis=0)\n",
    "        chroma = np.mean(librosa.feature.chroma_stft(S=stft, sr=sample_rate).T,axis=0)\n",
    "    except Exception as e:\n",
    "        print(\"Error encountered while parsing file: \", file)\n",
    "        return None, None\n",
    "    \n",
    "    print(row)\n",
    "    return mfccs,chroma,contrast,tonnetz,row"
   ]
  },
  {
   "cell_type": "code",
   "execution_count": 4,
   "metadata": {},
   "outputs": [],
   "source": [
    "def feature():\n",
    "    features=np.empty((0,65))\n",
    "    label=np.empty((0,1))\n",
    "    for i in range(1,200):\n",
    "        mfccs,chroma,contrast,tonnetz,l=parser(i)\n",
    "        ext_features = np.hstack([mfccs,chroma,contrast,tonnetz])\n",
    "        features = np.vstack([features,ext_features])\n",
    "        label=np.vstack((label,1))\n",
    "\n",
    "    for i in range(1,200:\n",
    "        mfccs,chroma,contrast,tonnetz,l=parser2(i)\n",
    "        ext_features = np.hstack([mfccs,chroma,contrast,tonnetz])\n",
    "        features = np.vstack([features,ext_features])\n",
    "        label=np.vstack((label,0))\n",
    "    \n",
    "    return features,label"
   ]
  },
  {
   "cell_type": "code",
   "execution_count": 3,
   "metadata": {},
   "outputs": [],
   "source": [
    "f=np.load('f_10_mfcc,sc,sr.npy')\n",
    "l=np.load('l_10_mfcc,sc,sr.npy')"
   ]
  },
  {
   "cell_type": "code",
   "execution_count": 4,
   "metadata": {},
   "outputs": [],
   "source": [
    "import sklearn\n",
    "from sklearn.svm import SVC\n",
    "from sklearn.model_selection import train_test_split\n",
    "from sklearn.model_selection import GridSearchCV\n",
    "from sklearn.metrics import classification_report\n",
    "from sklearn.ensemble import RandomForestRegressor"
   ]
  },
  {
   "cell_type": "code",
   "execution_count": null,
   "metadata": {},
   "outputs": [],
   "source": [
    "clf = SVC(C= 0.01, degree= 3, gamma= 0.00001, kernel= 'poly', probability=True)\n",
    "clf.fit(f, l.ravel())"
   ]
  },
  {
   "cell_type": "code",
   "execution_count": 82,
   "metadata": {},
   "outputs": [
    {
     "data": {
      "text/plain": [
       "RandomForestRegressor(bootstrap=True, criterion='mse', max_depth=None,\n",
       "           max_features='auto', max_leaf_nodes=None,\n",
       "           min_impurity_decrease=0.0, min_impurity_split=None,\n",
       "           min_samples_leaf=1, min_samples_split=2,\n",
       "           min_weight_fraction_leaf=0.0, n_estimators=1000, n_jobs=None,\n",
       "           oob_score=False, random_state=100, verbose=0, warm_start=False)"
      ]
     },
     "execution_count": 82,
     "metadata": {},
     "output_type": "execute_result"
    }
   ],
   "source": [
    "rf = RandomForestRegressor(n_estimators = 1000, random_state = 100)\n",
    "rf.fit(f, l.ravel())"
   ]
  },
  {
   "cell_type": "code",
   "execution_count": 8,
   "metadata": {},
   "outputs": [
    {
     "name": "stdout",
     "output_type": "stream",
     "text": [
      "(2234, 1)\n"
     ]
    }
   ],
   "source": [
    "print(l.shape)"
   ]
  },
  {
   "cell_type": "code",
   "execution_count": 31,
   "metadata": {},
   "outputs": [],
   "source": [
    "file_name = os.path.join(\"metal_new\", 'utensil5' + '.wav')\n",
    "t, sample_rate = librosa.load(file_name,sr=16000,mono=True) "
   ]
  },
  {
   "cell_type": "code",
   "execution_count": 27,
   "metadata": {},
   "outputs": [],
   "source": [
    "pre_emphasis = 2\n",
    "X = np.append(t[0], t[1:] - pre_emphasis * t[:-1])\n",
    "stft = np.abs(librosa.stft(X,n_fft=512,hop_length=168,win_length=500))\n",
    "mfccs = np.mean(librosa.feature.mfcc(y=X, sr=sample_rate, n_mfcc=40).T,axis=0) \n",
    "contrast = np.mean(librosa.feature.spectral_contrast(S=stft, sr=sample_rate).T,axis=0)\n",
    "tonnetz = np.mean(librosa.feature.tonnetz(y=librosa.effects.harmonic(X),sr=sample_rate).T,axis=0)\n",
    "mel = np.mean(librosa.feature.melspectrogram(X, sr=sample_rate).T,axis=0)\n",
    "chroma = np.mean(librosa.feature.chroma_stft(S=stft, sr=sample_rate).T,axis=0)\n",
    "spectral_centroids = np.mean(librosa.feature.spectral_centroid(X, sr=sample_rate).T,axis=0)\n",
    "spectral_rolloff =  np.mean(librosa.feature.spectral_rolloff(X, sr=sample_rate).T,axis=0)"
   ]
  },
  {
   "cell_type": "code",
   "execution_count": 28,
   "metadata": {},
   "outputs": [],
   "source": [
    "features_t=np.empty((0,40))\n",
    "#ext_features_t = np.hstack([mfccs,chroma,mel])\n",
    "features_t = np.vstack([features_t,mfccs])\n"
   ]
  },
  {
   "cell_type": "code",
   "execution_count": 29,
   "metadata": {},
   "outputs": [
    {
     "name": "stdout",
     "output_type": "stream",
     "text": [
      "(2198, 1)\n",
      "[[1.]\n",
      " [1.]\n",
      " [1.]\n",
      " ...\n",
      " [0.]\n",
      " [0.]\n",
      " [0.]]\n"
     ]
    }
   ],
   "source": [
    "print(l.shape)\n",
    "print(l)"
   ]
  },
  {
   "cell_type": "code",
   "execution_count": 30,
   "metadata": {},
   "outputs": [
    {
     "data": {
      "text/plain": [
       "array([1.])"
      ]
     },
     "execution_count": 30,
     "metadata": {},
     "output_type": "execute_result"
    }
   ],
   "source": [
    "clf.predict(features_t)"
   ]
  },
  {
   "cell_type": "code",
   "execution_count": 6,
   "metadata": {},
   "outputs": [],
   "source": [
    "def parser3(row):\n",
    "    file_name = os.path.join(\"glass_new\", 'glass ('+ str(row)+')' + '.wav')\n",
    "    try:\n",
    "        Y, sample_rate = librosa.load(file_name, res_type='kaiser_fast',sr=16000,mono=True) \n",
    "        pre_emphasis = 2\n",
    "        X = np.append(Y[0], Y[1:] - pre_emphasis * Y[:-1])\n",
    "        stft = np.abs(librosa.stft(X,n_fft=512,hop_length=168,win_length=500))\n",
    "        mfccs = np.mean(librosa.feature.mfcc(y=X, sr=sample_rate, n_mfcc=40).T,axis=0) \n",
    "        zcr = np.mean(librosa.feature.zero_crossing_rate(X, frame_length=512, hop_length=168, center=True).T,axis=0) \n",
    "        rms=np.mean(librosa.feature.rms(X, frame_length=512, hop_length=168, center=True, pad_mode='reflect').T,axis=0)\n",
    "        sc = np.mean(librosa.feature.spectral_centroid(X, sr=sample_rate).T,axis=0)\n",
    "        sr =  np.mean(librosa.feature.spectral_rolloff(X, sr=sample_rate).T,axis=0)\n",
    "    except Exception as e:\n",
    "        print(\"Error encountered while parsing file: \", file)\n",
    "        return None, None\n",
    "    \n",
    "    print(row)\n",
    "    return mfccs,sc,sr"
   ]
  },
  {
   "cell_type": "code",
   "execution_count": 159,
   "metadata": {},
   "outputs": [],
   "source": [
    "def parser4(row):\n",
    "    file_name = os.path.join(\"special_metal\", 'meta ('+ str(row)+')' + '.wav')\n",
    "    try:\n",
    "        Y, sample_rate = librosa.load(file_name, res_type='kaiser_fast',sr=16000,mono=True) \n",
    "        pre_emphasis = 2\n",
    "        X = np.append(Y[0], Y[1:] - pre_emphasis * Y[:-1])\n",
    "        stft = np.abs(librosa.stft(X,n_fft=512,hop_length=168,win_length=500))\n",
    "        mfccs = np.mean(librosa.feature.mfcc(y=X, sr=sample_rate, n_mfcc=40).T,axis=0) \n",
    "        zcr = np.mean(librosa.feature.zero_crossing_rate(X, frame_length=512, hop_length=168, center=True).T,axis=0) \n",
    "        rms=np.mean(librosa.feature.rms(X, frame_length=512, hop_length=168, center=True, pad_mode='reflect').T,axis=0)\n",
    "        sc = np.mean(librosa.feature.spectral_centroid(X, sr=sample_rate).T,axis=0)\n",
    "        sr =  np.mean(librosa.feature.spectral_rolloff(X, sr=sample_rate).T,axis=0)\n",
    "    except Exception as e:\n",
    "        print(\"Error encountered while parsing file: \", file)\n",
    "        return None, None\n",
    "    \n",
    "    print(row)\n",
    "    return mfccs,sc,sr"
   ]
  },
  {
   "cell_type": "code",
   "execution_count": 7,
   "metadata": {},
   "outputs": [],
   "source": [
    "def feature_test():\n",
    "    features=np.empty((0,42))\n",
    "    y_test=np.empty((0,1))\n",
    "    for i in range(1,14):\n",
    "        mfccs,sc,sr=parser3(i)\n",
    "        ext_features = np.hstack([mfccs,sc,sr])\n",
    "        features = np.vstack([features,ext_features])\n",
    "        y_test=np.vstack((y_test,0))\n",
    "      \n",
    "    return features,y_test"
   ]
  },
  {
   "cell_type": "code",
   "execution_count": 168,
   "metadata": {},
   "outputs": [],
   "source": [
    "def feature_test1():\n",
    "    features=np.empty((0,40))\n",
    "    y_test=np.empty((0,1))\n",
    "    for i in range(1,200):\n",
    "        mfccs,sc,sr=parser4(i)\n",
    "        ext_features = np.hstack([mfccs,sc,sr])\n",
    "        features = np.vstack([features,mfccs])\n",
    "        y_test=np.vstack((y_test,0))\n",
    "      \n",
    "    return features,y_test"
   ]
  },
  {
   "cell_type": "code",
   "execution_count": 10,
   "metadata": {
    "scrolled": true
   },
   "outputs": [
    {
     "name": "stdout",
     "output_type": "stream",
     "text": [
      "1\n",
      "2\n",
      "3\n",
      "4\n",
      "5\n",
      "6\n",
      "7\n",
      "8\n",
      "9\n",
      "10\n",
      "11\n",
      "12\n",
      "13\n"
     ]
    }
   ],
   "source": [
    "test_feature,y_test=feature_test()"
   ]
  },
  {
   "cell_type": "code",
   "execution_count": 161,
   "metadata": {
    "scrolled": true
   },
   "outputs": [
    {
     "name": "stdout",
     "output_type": "stream",
     "text": [
      "1\n",
      "2\n",
      "3\n",
      "4\n",
      "5\n",
      "6\n",
      "7\n",
      "8\n",
      "9\n",
      "10\n",
      "11\n",
      "12\n",
      "13\n",
      "14\n",
      "15\n",
      "16\n",
      "17\n",
      "18\n",
      "19\n",
      "20\n",
      "21\n",
      "22\n",
      "23\n",
      "24\n",
      "25\n",
      "26\n",
      "27\n",
      "28\n",
      "29\n",
      "30\n",
      "31\n",
      "32\n",
      "33\n",
      "34\n",
      "35\n",
      "36\n",
      "37\n",
      "38\n",
      "39\n",
      "40\n",
      "41\n",
      "42\n",
      "43\n",
      "44\n",
      "45\n",
      "46\n",
      "47\n",
      "48\n",
      "49\n",
      "50\n",
      "51\n",
      "52\n",
      "53\n",
      "54\n",
      "55\n",
      "56\n",
      "57\n",
      "58\n",
      "59\n",
      "60\n",
      "61\n",
      "62\n",
      "63\n",
      "64\n",
      "65\n",
      "66\n",
      "67\n",
      "68\n",
      "69\n",
      "70\n",
      "71\n",
      "72\n",
      "73\n",
      "74\n",
      "75\n",
      "76\n",
      "77\n",
      "78\n",
      "79\n",
      "80\n",
      "81\n",
      "82\n",
      "83\n",
      "84\n",
      "85\n",
      "86\n",
      "87\n",
      "88\n",
      "89\n",
      "90\n",
      "91\n",
      "92\n",
      "93\n",
      "94\n",
      "95\n",
      "96\n",
      "97\n",
      "98\n",
      "99\n",
      "100\n",
      "101\n",
      "102\n",
      "103\n",
      "104\n",
      "105\n",
      "106\n",
      "107\n",
      "108\n",
      "109\n",
      "110\n",
      "111\n",
      "112\n",
      "113\n",
      "114\n",
      "115\n",
      "116\n",
      "117\n",
      "118\n",
      "119\n",
      "120\n",
      "121\n",
      "122\n",
      "123\n",
      "124\n",
      "125\n",
      "126\n",
      "127\n",
      "128\n",
      "129\n",
      "130\n",
      "131\n",
      "132\n",
      "133\n",
      "134\n",
      "135\n",
      "136\n",
      "137\n",
      "138\n",
      "139\n",
      "140\n",
      "141\n",
      "142\n",
      "143\n",
      "144\n",
      "145\n",
      "146\n",
      "147\n",
      "148\n",
      "149\n"
     ]
    }
   ],
   "source": [
    "test_f,test_l=feature_test1()"
   ]
  },
  {
   "cell_type": "code",
   "execution_count": 11,
   "metadata": {},
   "outputs": [
    {
     "data": {
      "text/plain": [
       "array([0., 0., 0., 0., 0., 0., 1., 1., 0., 1., 1., 1., 0.])"
      ]
     },
     "execution_count": 11,
     "metadata": {},
     "output_type": "execute_result"
    }
   ],
   "source": [
    "clf.predict(test_feature)\n",
    "#print(y_test.shape)"
   ]
  },
  {
   "cell_type": "code",
   "execution_count": 157,
   "metadata": {},
   "outputs": [
    {
     "name": "stdout",
     "output_type": "stream",
     "text": [
      "[1, 1, 1, 0, 1, 1, 1, 0, 0, 1, 1, 1, 1]\n"
     ]
    },
    {
     "data": {
      "text/plain": [
       "(array([0, 1]), array([ 3, 10], dtype=int64))"
      ]
     },
     "execution_count": 157,
     "metadata": {},
     "output_type": "execute_result"
    }
   ],
   "source": [
    "prob=clf.predict_proba(test_feature)\n",
    "new_list=[]\n",
    "\n",
    "for i in range(prob.shape[0]):\n",
    "    if prob[i][1]<0.4:\n",
    "        new_list.append(0)\n",
    "    else:\n",
    "        new_list.append(1)\n",
    "print(new_list)     \n",
    "np.unique(new_list,return_counts=True)"
   ]
  },
  {
   "cell_type": "code",
   "execution_count": 162,
   "metadata": {},
   "outputs": [
    {
     "data": {
      "text/plain": [
       "array([[9.85944486e-01, 1.40555142e-02],\n",
       "       [9.93446006e-01, 6.55399441e-03],\n",
       "       [9.29584106e-01, 7.04158937e-02],\n",
       "       [9.71515931e-01, 2.84840694e-02],\n",
       "       [9.94708644e-01, 5.29135619e-03],\n",
       "       [8.99553198e-01, 1.00446802e-01],\n",
       "       [9.94207901e-01, 5.79209926e-03],\n",
       "       [9.69208286e-01, 3.07917138e-02],\n",
       "       [9.96598779e-01, 3.40122138e-03],\n",
       "       [8.46386405e-01, 1.53613595e-01],\n",
       "       [9.94158949e-01, 5.84105108e-03],\n",
       "       [9.91872492e-01, 8.12750847e-03],\n",
       "       [9.98600738e-01, 1.39926150e-03],\n",
       "       [9.88723010e-01, 1.12769899e-02],\n",
       "       [9.97290983e-01, 2.70901670e-03],\n",
       "       [9.09982967e-01, 9.00170327e-02],\n",
       "       [2.06936737e-01, 7.93063263e-01],\n",
       "       [7.90586969e-01, 2.09413031e-01],\n",
       "       [4.66786761e-01, 5.33213239e-01],\n",
       "       [4.09304431e-01, 5.90695569e-01],\n",
       "       [2.65542624e-01, 7.34457376e-01],\n",
       "       [2.89508149e-01, 7.10491851e-01],\n",
       "       [4.44300464e-01, 5.55699536e-01],\n",
       "       [4.55444584e-01, 5.44555416e-01],\n",
       "       [3.26982067e-01, 6.73017933e-01],\n",
       "       [3.44171835e-01, 6.55828165e-01],\n",
       "       [1.88999446e-01, 8.11000554e-01],\n",
       "       [5.26447954e-01, 4.73552046e-01],\n",
       "       [8.01855427e-01, 1.98144573e-01],\n",
       "       [7.62684774e-01, 2.37315226e-01],\n",
       "       [8.93966739e-01, 1.06033261e-01],\n",
       "       [8.69208633e-01, 1.30791367e-01],\n",
       "       [7.76047526e-01, 2.23952474e-01],\n",
       "       [1.28530841e-01, 8.71469159e-01],\n",
       "       [5.86850155e-02, 9.41314984e-01],\n",
       "       [5.00078974e-02, 9.49992103e-01],\n",
       "       [1.10323866e-01, 8.89676134e-01],\n",
       "       [8.60560788e-02, 9.13943921e-01],\n",
       "       [4.74817141e-03, 9.95251829e-01],\n",
       "       [5.02664473e-02, 9.49733553e-01],\n",
       "       [1.19521035e-01, 8.80478965e-01],\n",
       "       [6.26701062e-02, 9.37329894e-01],\n",
       "       [1.05349209e-01, 8.94650791e-01],\n",
       "       [7.96066050e-02, 9.20393395e-01],\n",
       "       [2.67446171e-01, 7.32553829e-01],\n",
       "       [2.95157829e-01, 7.04842171e-01],\n",
       "       [7.27349728e-02, 9.27265027e-01],\n",
       "       [1.28152319e-01, 8.71847681e-01],\n",
       "       [8.32652503e-02, 9.16734750e-01],\n",
       "       [1.48001946e-01, 8.51998054e-01],\n",
       "       [1.45552080e-01, 8.54447920e-01],\n",
       "       [5.62688527e-02, 9.43731147e-01],\n",
       "       [1.83649728e-01, 8.16350272e-01],\n",
       "       [6.83078200e-01, 3.16921800e-01],\n",
       "       [9.37533424e-07, 9.99999062e-01],\n",
       "       [4.29380121e-09, 9.99999996e-01],\n",
       "       [5.45501430e-10, 9.99999999e-01],\n",
       "       [4.25448833e-08, 9.99999957e-01],\n",
       "       [1.04194965e-02, 9.89580503e-01],\n",
       "       [1.79713491e-05, 9.99982029e-01],\n",
       "       [4.17938459e-03, 9.95820615e-01],\n",
       "       [1.67453097e-02, 9.83254690e-01],\n",
       "       [1.07160791e-08, 9.99999989e-01],\n",
       "       [4.79367569e-08, 9.99999952e-01],\n",
       "       [1.32507606e-08, 9.99999987e-01],\n",
       "       [5.05908983e-06, 9.99994941e-01],\n",
       "       [4.54222009e-01, 5.45777991e-01],\n",
       "       [2.52512905e-02, 9.74748709e-01],\n",
       "       [1.64259114e-06, 9.99998357e-01],\n",
       "       [1.50120414e-08, 9.99999985e-01],\n",
       "       [9.80493263e-02, 9.01950674e-01],\n",
       "       [8.39335239e-02, 9.16066476e-01],\n",
       "       [3.82654632e-07, 9.99999617e-01],\n",
       "       [7.35510405e-11, 1.00000000e+00],\n",
       "       [9.54498839e-11, 1.00000000e+00],\n",
       "       [7.94113319e-10, 9.99999999e-01],\n",
       "       [3.32792333e-10, 1.00000000e+00],\n",
       "       [5.37528539e-08, 9.99999946e-01],\n",
       "       [9.28081450e-09, 9.99999991e-01],\n",
       "       [2.46108089e-09, 9.99999998e-01],\n",
       "       [3.18619660e-09, 9.99999997e-01],\n",
       "       [1.40711079e-01, 8.59288921e-01],\n",
       "       [2.01402100e-02, 9.79859790e-01],\n",
       "       [6.18601960e-01, 3.81398040e-01],\n",
       "       [2.04087697e-01, 7.95912303e-01],\n",
       "       [2.78054599e-01, 7.21945401e-01],\n",
       "       [7.90244445e-01, 2.09755555e-01],\n",
       "       [9.91319958e-01, 8.68004213e-03],\n",
       "       [9.97534147e-01, 2.46585264e-03],\n",
       "       [1.30940675e-01, 8.69059325e-01],\n",
       "       [6.78058151e-11, 1.00000000e+00],\n",
       "       [7.09842464e-08, 9.99999929e-01],\n",
       "       [6.78463786e-08, 9.99999932e-01],\n",
       "       [2.24151254e-08, 9.99999978e-01],\n",
       "       [4.00107112e-08, 9.99999960e-01],\n",
       "       [1.94846724e-06, 9.99998052e-01],\n",
       "       [4.02277717e-03, 9.95977223e-01],\n",
       "       [9.95209797e-01, 4.79020302e-03],\n",
       "       [9.99968307e-01, 3.16926800e-05],\n",
       "       [9.99866366e-01, 1.33634333e-04],\n",
       "       [9.97362105e-01, 2.63789501e-03],\n",
       "       [9.01007513e-01, 9.89924874e-02],\n",
       "       [9.83142307e-01, 1.68576933e-02],\n",
       "       [9.97790480e-01, 2.20951989e-03],\n",
       "       [9.99906646e-01, 9.33536471e-05],\n",
       "       [9.99010159e-01, 9.89841031e-04],\n",
       "       [9.98206157e-01, 1.79384341e-03],\n",
       "       [9.88591374e-01, 1.14086260e-02],\n",
       "       [9.70759116e-01, 2.92408836e-02],\n",
       "       [9.99151541e-01, 8.48458943e-04],\n",
       "       [9.99701712e-01, 2.98287650e-04],\n",
       "       [9.99063829e-01, 9.36171243e-04],\n",
       "       [9.97075513e-01, 2.92448734e-03],\n",
       "       [9.98027107e-01, 1.97289267e-03],\n",
       "       [9.99993067e-01, 6.93333986e-06],\n",
       "       [9.99767632e-01, 2.32368294e-04],\n",
       "       [9.41181851e-01, 5.88181488e-02],\n",
       "       [9.84193346e-01, 1.58066540e-02],\n",
       "       [9.88504634e-01, 1.14953662e-02],\n",
       "       [9.73085985e-01, 2.69140154e-02],\n",
       "       [9.97804492e-01, 2.19550816e-03],\n",
       "       [9.99866201e-01, 1.33799322e-04],\n",
       "       [9.99149844e-01, 8.50155771e-04],\n",
       "       [9.99924785e-01, 7.52146488e-05],\n",
       "       [9.96711758e-01, 3.28824179e-03],\n",
       "       [9.92784246e-01, 7.21575353e-03],\n",
       "       [9.94155312e-01, 5.84468774e-03],\n",
       "       [9.99983949e-01, 1.60506029e-05],\n",
       "       [9.99922011e-01, 7.79890158e-05],\n",
       "       [9.99995402e-01, 4.59817308e-06],\n",
       "       [9.90119555e-01, 9.88044478e-03],\n",
       "       [8.86329044e-01, 1.13670956e-01],\n",
       "       [9.99960778e-01, 3.92223938e-05],\n",
       "       [9.99588988e-01, 4.11012058e-04],\n",
       "       [9.91063481e-01, 8.93651912e-03],\n",
       "       [9.94064221e-01, 5.93577938e-03],\n",
       "       [9.82204179e-01, 1.77958213e-02],\n",
       "       [9.99995896e-01, 4.10403597e-06],\n",
       "       [9.99772554e-01, 2.27446138e-04],\n",
       "       [9.99143686e-01, 8.56314292e-04],\n",
       "       [9.99999500e-01, 4.99811701e-07],\n",
       "       [9.99999900e-01, 1.00000010e-07],\n",
       "       [9.93410286e-01, 6.58971375e-03],\n",
       "       [9.93078005e-01, 6.92199454e-03],\n",
       "       [9.99802404e-01, 1.97596220e-04],\n",
       "       [9.98137116e-01, 1.86288420e-03],\n",
       "       [9.99994823e-01, 5.17718847e-06],\n",
       "       [9.99997006e-01, 2.99436848e-06],\n",
       "       [9.99999900e-01, 1.00000010e-07]])"
      ]
     },
     "execution_count": 162,
     "metadata": {},
     "output_type": "execute_result"
    }
   ],
   "source": [
    "clf.predict_proba(test_f)"
   ]
  },
  {
   "cell_type": "code",
   "execution_count": 163,
   "metadata": {},
   "outputs": [
    {
     "name": "stdout",
     "output_type": "stream",
     "text": [
      "[0, 0, 0, 0, 0, 0, 0, 0, 0, 0, 0, 0, 0, 0, 0, 0, 0, 0, 0, 0, 0, 0, 0, 0, 0, 0, 1, 0, 0, 0, 0, 0, 0, 1, 1, 1, 1, 1, 1, 1, 1, 1, 1, 1, 0, 0, 1, 1, 1, 1, 1, 1, 1, 0, 1, 1, 1, 1, 1, 1, 1, 1, 1, 1, 1, 1, 0, 1, 1, 1, 1, 1, 1, 1, 1, 1, 1, 1, 1, 1, 1, 1, 1, 0, 0, 0, 0, 0, 0, 1, 1, 1, 1, 1, 1, 1, 1, 0, 0, 0, 0, 0, 0, 0, 0, 0, 0, 0, 0, 0, 0, 0, 0, 0, 0, 0, 0, 0, 0, 0, 0, 0, 0, 0, 0, 0, 0, 0, 0, 0, 0, 0, 0, 0, 0, 0, 0, 0, 0, 0, 0, 0, 0, 0, 0, 0, 0, 0, 0]\n"
     ]
    },
    {
     "data": {
      "text/plain": [
       "(array([0, 1]), array([94, 55], dtype=int64))"
      ]
     },
     "execution_count": 163,
     "metadata": {},
     "output_type": "execute_result"
    }
   ],
   "source": [
    "prob=clf.predict_proba(test_f)\n",
    "new_list=[]\n",
    "\n",
    "for i in range(prob.shape[0]):\n",
    "    if prob[i][1]<0.8:\n",
    "        new_list.append(0)\n",
    "    else:\n",
    "        new_list.append(1)\n",
    "print(new_list)     \n",
    "np.unique(new_list,return_counts=True)"
   ]
  },
  {
   "cell_type": "code",
   "execution_count": 125,
   "metadata": {},
   "outputs": [
    {
     "data": {
      "text/plain": [
       "array([0., 0., 0., 0., 0., 0., 0., 0., 0., 0., 0., 0., 0., 0., 0., 0., 1.,\n",
       "       0., 1., 1., 1., 1., 1., 1., 1., 1., 1., 0., 0., 0., 0., 0., 0., 1.,\n",
       "       1., 1., 1., 1., 1., 1., 1., 1., 1., 1., 1., 1., 1., 1., 1., 1., 1.,\n",
       "       1., 1., 0., 1., 1., 1., 1., 1., 1., 1., 1., 1., 1., 1., 1., 1., 1.,\n",
       "       1., 1., 1., 1., 1., 1., 1., 1., 1., 1., 1., 1., 1., 1., 1., 0., 1.,\n",
       "       1., 0., 0., 0., 1., 1., 1., 1., 1., 1., 1., 1., 0., 0., 0., 0., 0.,\n",
       "       0., 0., 0., 0., 0., 0., 0., 0., 0., 0., 0., 0., 0., 0., 0., 0., 0.,\n",
       "       0., 0., 0., 0., 0., 0., 0., 0., 0., 0., 0., 0., 0., 0., 0., 0., 0.,\n",
       "       0., 0., 0., 0., 0., 0., 0., 0., 0., 0., 0., 0., 0.])"
      ]
     },
     "execution_count": 125,
     "metadata": {},
     "output_type": "execute_result"
    }
   ],
   "source": [
    "clf.predict(test_feature)"
   ]
  },
  {
   "cell_type": "code",
   "execution_count": 117,
   "metadata": {},
   "outputs": [
    {
     "name": "stdout",
     "output_type": "stream",
     "text": [
      "Mean Absolute Error: 0.84 degrees.\n"
     ]
    }
   ],
   "source": [
    "predictions = clf.predict(test_feature)\n",
    "# Calculate the absolute errors\n",
    "errors = abs(predictions - y_test)\n",
    "# Print out the mean absolute error (mae)\n",
    "print('Mean Absolute Error:', round(np.mean(errors), 2), 'degrees.')"
   ]
  },
  {
   "cell_type": "code",
   "execution_count": 96,
   "metadata": {},
   "outputs": [
    {
     "name": "stdout",
     "output_type": "stream",
     "text": [
      "Accuracy: nan %.\n"
     ]
    },
    {
     "name": "stderr",
     "output_type": "stream",
     "text": [
      "C:\\ProgramData\\Anaconda3\\lib\\site-packages\\ipykernel_launcher.py:1: RuntimeWarning: divide by zero encountered in true_divide\n",
      "  \"\"\"Entry point for launching an IPython kernel.\n",
      "C:\\ProgramData\\Anaconda3\\lib\\site-packages\\ipykernel_launcher.py:1: RuntimeWarning: invalid value encountered in true_divide\n",
      "  \"\"\"Entry point for launching an IPython kernel.\n"
     ]
    }
   ],
   "source": [
    "mape = 100 * (errors / y_test)\n",
    "accuracy = 100 - np.mean(mape)\n",
    "print('Accuracy:', round(accuracy, 2), '%.')"
   ]
  },
  {
   "cell_type": "code",
   "execution_count": 97,
   "metadata": {},
   "outputs": [
    {
     "name": "stdout",
     "output_type": "stream",
     "text": [
      "(199, 42)\n",
      "(199, 1)\n"
     ]
    }
   ],
   "source": [
    "print(test_feature.shape)\n",
    "print(y_test.shape)"
   ]
  },
  {
   "cell_type": "code",
   "execution_count": 123,
   "metadata": {},
   "outputs": [
    {
     "name": "stdout",
     "output_type": "stream",
     "text": [
      "acc=0.53691\n"
     ]
    }
   ],
   "source": [
    "acc = clf.score(test_feature, y_test)\n",
    "print(\"acc=%0.5f\" % acc)"
   ]
  },
  {
   "cell_type": "code",
   "execution_count": null,
   "metadata": {
    "scrolled": true
   },
   "outputs": [
    {
     "name": "stdout",
     "output_type": "stream",
     "text": [
      "# Tuning hyper-parameters for precision\n",
      "\n"
     ]
    }
   ],
   "source": [
    "from sklearn.model_selection import train_test_split\n",
    "from sklearn.model_selection import GridSearchCV\n",
    "from sklearn.metrics import classification_report\n",
    "X_train, X_test, y_train, y_test = train_test_split(f, l.ravel(), test_size=0.4, random_state=0)\n",
    "# Set the parameters by cross-validation\n",
    "tuned_parameters = [{'kernel': ['rbf','poly'], 'gamma': [1e-2,1e-3, 1e-4,1],'C': [5,10,20,40],'degree':[2,3]}]\n",
    "                     \n",
    "scores = ['precision', 'recall']\n",
    "\n",
    "for score in scores:\n",
    "    print(\"# Tuning hyper-parameters for %s\" % score)\n",
    "    print('')\n",
    "\n",
    "    clf = GridSearchCV(SVC(), tuned_parameters, cv=5,scoring='%s_macro' % score)\n",
    "    clf.fit(X_train, y_train)\n",
    "\n",
    "    print(\"Best parameters set found on development set:\")\n",
    "    print('')\n",
    "    print(clf.best_params_)\n",
    "    print('')\n",
    "    print(\"Grid scores on development set:\")\n",
    "    print('')\n",
    "    means = clf.cv_results_['mean_test_score']\n",
    "    stds = clf.cv_results_['std_test_score']\n",
    "    for mean, std, params in zip(means, stds, clf.cv_results_['params']):\n",
    "        print(\"%0.3f (+/-%0.03f) for %r\"% (mean, std * 2, params))\n",
    "    print('')\n",
    "    print(\"Detailed classification report:\")\n",
    "    print('')\n",
    "    print(\"The model is trained on the full development set.\")\n",
    "    print(\"The scores are computed on the full evaluation set.\")\n",
    "    print('')\n",
    "    y_true, y_pred = y_test, clf.predict(X_test)\n",
    "    print(classification_report(y_true, y_pred))\n",
    "    print('')"
   ]
  },
  {
   "cell_type": "code",
   "execution_count": null,
   "metadata": {},
   "outputs": [],
   "source": []
  }
 ],
 "metadata": {
  "kernelspec": {
   "display_name": "Python 3",
   "language": "python",
   "name": "python3"
  },
  "language_info": {
   "codemirror_mode": {
    "name": "ipython",
    "version": 3
   },
   "file_extension": ".py",
   "mimetype": "text/x-python",
   "name": "python",
   "nbconvert_exporter": "python",
   "pygments_lexer": "ipython3",
   "version": "3.7.3"
  }
 },
 "nbformat": 4,
 "nbformat_minor": 2
}
