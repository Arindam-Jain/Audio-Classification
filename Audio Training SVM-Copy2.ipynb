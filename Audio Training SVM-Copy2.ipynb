{
 "cells": [
  {
   "cell_type": "code",
   "execution_count": 1,
   "metadata": {},
   "outputs": [],
   "source": [
    "import numpy as np\n",
    "import scipy.io.wavfile\n",
    "from scipy.fftpack import dct\n",
    "get_ipython().run_line_magic('matplotlib', 'inline')\n",
    "import matplotlib.pyplot as plt\n",
    "import string\n",
    "import pandas as pd\n",
    "import glob \n",
    "import os\n",
    "import random\n",
    "import librosa\n"
   ]
  },
  {
   "cell_type": "code",
   "execution_count": 2,
   "metadata": {},
   "outputs": [],
   "source": [
    "def parser(row):\n",
    "    file_name = os.path.join(\"six_sec_glass\", 'Train ('+ str(row) + ')'+'.wav')\n",
    "    try:\n",
    "        Y, sample_rate = librosa.load(file_name, res_type='kaiser_fast',sr=16000,mono=True) \n",
    "        pre_emphasis = 2\n",
    "        X = np.append(Y[0], Y[1:] - pre_emphasis * Y[:-1])\n",
    "        stft = np.abs(librosa.stft(X,n_fft=512,hop_length=168,win_length=500))\n",
    "        mfccs = np.mean(librosa.feature.mfcc(y=X, sr=sample_rate, n_mfcc=40).T,axis=0) \n",
    "        contrast = np.mean(librosa.feature.spectral_contrast(S=stft, sr=sample_rate).T,axis=0)\n",
    "        tonnetz = np.mean(librosa.feature.tonnetz(y=librosa.effects.harmonic(X),sr=sample_rate).T,axis=0)\n",
    "        mel = np.mean(librosa.feature.melspectrogram(X, sr=sample_rate).T,axis=0)\n",
    "        chroma = np.mean(librosa.feature.chroma_stft(S=stft, sr=sample_rate).T,axis=0)\n",
    "        spectral_centroids = np.mean(librosa.feature.spectral_centroid(X, sr=sample_rate).T,axis=0)\n",
    "        spectral_rolloff =  np.mean(librosa.feature.spectral_rolloff(X, sr=sample_rate).T,axis=0)\n",
    "    except Exception as e:\n",
    "        print(\"Error encountered while parsing file: \", file)\n",
    "        return None, None\n",
    "    \n",
    "    print(row)\n",
    "    return mfccs,mel,contrast,tonnetz,row\n"
   ]
  },
  {
   "cell_type": "code",
   "execution_count": 3,
   "metadata": {},
   "outputs": [],
   "source": [
    "def parser2(row):\n",
    "    file_name = os.path.join(\"special_metal\", 'metal'+ str(row) + '.wav')\n",
    "    try:\n",
    "        Y, sample_rate = librosa.load(file_name, res_type='kaiser_fast',sr=16000,mono=True) \n",
    "        pre_emphasis = 2\n",
    "        X = np.append(Y[0], Y[1:] - pre_emphasis * Y[:-1])\n",
    "        stft = np.abs(librosa.stft(X,n_fft=512,hop_length=168,win_length=500))\n",
    "        mfccs = np.mean(librosa.feature.mfcc(y=X, sr=sample_rate, n_mfcc=40).T,axis=0) \n",
    "        contrast = np.mean(librosa.feature.spectral_contrast(S=stft, sr=sample_rate).T,axis=0)\n",
    "        tonnetz = np.mean(librosa.feature.tonnetz(y=librosa.effects.harmonic(X),sr=sample_rate).T,axis=0)\n",
    "        mel = np.mean(librosa.feature.melspectrogram(X, sr=sample_rate).T,axis=0)\n",
    "        chroma = np.mean(librosa.feature.chroma_stft(S=stft, sr=sample_rate).T,axis=0)\n",
    "    except Exception as e:\n",
    "        print(\"Error encountered while parsing file: \", file)\n",
    "        return None, None\n",
    "    \n",
    "    print(row)\n",
    "    return mfccs,chroma,contrast,tonnetz,row"
   ]
  },
  {
   "cell_type": "code",
   "execution_count": 4,
   "metadata": {},
   "outputs": [],
   "source": [
    "def feature():\n",
    "    features=np.empty((0,65))\n",
    "    label=np.empty((0,1))\n",
    "    for i in range(1,200):\n",
    "        mfccs,chroma,contrast,tonnetz,l=parser(i)\n",
    "        ext_features = np.hstack([mfccs,chroma,contrast,tonnetz])\n",
    "        features = np.vstack([features,ext_features])\n",
    "        label=np.vstack((label,1))\n",
    "\n",
    "    for i in range(1,200:\n",
    "        mfccs,chroma,contrast,tonnetz,l=parser2(i)\n",
    "        ext_features = np.hstack([mfccs,chroma,contrast,tonnetz])\n",
    "        features = np.vstack([features,ext_features])\n",
    "        label=np.vstack((label,0))\n",
    "    \n",
    "    return features,label"
   ]
  },
  {
   "cell_type": "code",
   "execution_count": 2,
   "metadata": {},
   "outputs": [],
   "source": [
    "f=np.load('f_5#pre_mfcc_cry_glass_noise.npy')\n",
    "l=np.load('l_5#pre_mfcc_cry_glass_noise.npy')"
   ]
  },
  {
   "cell_type": "code",
   "execution_count": 3,
   "metadata": {},
   "outputs": [],
   "source": [
    "import sklearn\n",
    "from sklearn.svm import SVC\n",
    "from sklearn.model_selection import train_test_split\n",
    "from sklearn.model_selection import GridSearchCV\n",
    "from sklearn.metrics import classification_report\n",
    "from sklearn.ensemble import RandomForestRegressor"
   ]
  },
  {
   "cell_type": "code",
   "execution_count": 5,
   "metadata": {},
   "outputs": [
    {
     "data": {
      "text/plain": [
       "SVC(C=5, cache_size=200, class_weight=None, coef0=0.0,\n",
       "  decision_function_shape='ovr', degree=2, gamma=0.0001, kernel='rbf',\n",
       "  max_iter=-1, probability=True, random_state=None, shrinking=True,\n",
       "  tol=0.001, verbose=False)"
      ]
     },
     "execution_count": 5,
     "metadata": {},
     "output_type": "execute_result"
    }
   ],
   "source": [
    "clf = SVC(C= 5, degree= 2, gamma= 0.0001, kernel= 'rbf', probability=True)\n",
    "clf.fit(f, l.ravel())"
   ]
  },
  {
   "cell_type": "code",
   "execution_count": 82,
   "metadata": {},
   "outputs": [
    {
     "data": {
      "text/plain": [
       "RandomForestRegressor(bootstrap=True, criterion='mse', max_depth=None,\n",
       "           max_features='auto', max_leaf_nodes=None,\n",
       "           min_impurity_decrease=0.0, min_impurity_split=None,\n",
       "           min_samples_leaf=1, min_samples_split=2,\n",
       "           min_weight_fraction_leaf=0.0, n_estimators=1000, n_jobs=None,\n",
       "           oob_score=False, random_state=100, verbose=0, warm_start=False)"
      ]
     },
     "execution_count": 82,
     "metadata": {},
     "output_type": "execute_result"
    }
   ],
   "source": [
    "rf = RandomForestRegressor(n_estimators = 1000, random_state = 100)\n",
    "rf.fit(f, l.ravel())"
   ]
  },
  {
   "cell_type": "code",
   "execution_count": 8,
   "metadata": {},
   "outputs": [
    {
     "name": "stdout",
     "output_type": "stream",
     "text": [
      "(2234, 1)\n"
     ]
    }
   ],
   "source": [
    "print(l.shape)"
   ]
  },
  {
   "cell_type": "code",
   "execution_count": 12,
   "metadata": {},
   "outputs": [],
   "source": [
    "file_name = os.path.join(\"noisy glass\", 'gla' + '.wav')\n",
    "t, sample_rate = librosa.load(file_name,sr=16000,mono=True) "
   ]
  },
  {
   "cell_type": "code",
   "execution_count": 13,
   "metadata": {},
   "outputs": [],
   "source": [
    "pre_emphasis = 2\n",
    "X = np.append(t[0], t[1:] - pre_emphasis * t[:-1])\n",
    "stft = np.abs(librosa.stft(X,n_fft=512,hop_length=168,win_length=500))\n",
    "mfccs = np.mean(librosa.feature.mfcc(y=X, sr=sample_rate, n_mfcc=64).T,axis=0) \n",
    "contrast = np.mean(librosa.feature.spectral_contrast(S=stft, sr=sample_rate).T,axis=0)\n",
    "tonnetz = np.mean(librosa.feature.tonnetz(y=librosa.effects.harmonic(X),sr=sample_rate).T,axis=0)\n",
    "mel = np.mean(librosa.feature.melspectrogram(X, sr=sample_rate).T,axis=0)\n",
    "chroma = np.mean(librosa.feature.chroma_stft(S=stft, sr=sample_rate).T,axis=0)\n",
    "spectral_centroids = np.mean(librosa.feature.spectral_centroid(X, sr=sample_rate).T,axis=0)\n",
    "spectral_rolloff =  np.mean(librosa.feature.spectral_rolloff(X, sr=sample_rate).T,axis=0)"
   ]
  },
  {
   "cell_type": "code",
   "execution_count": 14,
   "metadata": {},
   "outputs": [],
   "source": [
    "features_t=np.empty((0,64))\n",
    "#ext_features_t = np.hstack([mfccs,chroma,mel])\n",
    "features_t = np.vstack([features_t,mfccs])\n"
   ]
  },
  {
   "cell_type": "code",
   "execution_count": 15,
   "metadata": {},
   "outputs": [
    {
     "name": "stdout",
     "output_type": "stream",
     "text": [
      "(2046, 1)\n",
      "[[1.]\n",
      " [1.]\n",
      " [1.]\n",
      " ...\n",
      " [0.]\n",
      " [0.]\n",
      " [0.]]\n"
     ]
    }
   ],
   "source": [
    "print(l.shape)\n",
    "print(l)"
   ]
  },
  {
   "cell_type": "code",
   "execution_count": 16,
   "metadata": {},
   "outputs": [
    {
     "data": {
      "text/plain": [
       "array([0.])"
      ]
     },
     "execution_count": 16,
     "metadata": {},
     "output_type": "execute_result"
    }
   ],
   "source": [
    "clf.predict(features_t)"
   ]
  },
  {
   "cell_type": "code",
   "execution_count": 41,
   "metadata": {},
   "outputs": [],
   "source": [
    "def parser3(row):\n",
    "    file_name = os.path.join(\"noisy glass\",\"sound3\", 'noiglass'+ str(row) + '.wav')\n",
    "    try:\n",
    "        Y, sample_rate = librosa.load(file_name, res_type='kaiser_fast',sr=16000,mono=True) \n",
    "        pre_emphasis = 2\n",
    "        X = np.append(Y[0], Y[1:] - pre_emphasis * Y[:-1])\n",
    "        stft = np.abs(librosa.stft(X,n_fft=512,hop_length=168,win_length=500))\n",
    "        mfccs = np.mean(librosa.feature.mfcc(y=X, sr=sample_rate, n_mfcc=64).T,axis=0) \n",
    "        zcr = np.mean(librosa.feature.zero_crossing_rate(X, frame_length=512, hop_length=168, center=True).T,axis=0) \n",
    "        rms=np.mean(librosa.feature.rms(X, frame_length=512, hop_length=168, center=True, pad_mode='reflect').T,axis=0)\n",
    "    except Exception as e:\n",
    "        print(\"Error encountered while parsing file: \", file)\n",
    "        return None, None\n",
    "    \n",
    "    print(row)\n",
    "    return mfccs"
   ]
  },
  {
   "cell_type": "code",
   "execution_count": 45,
   "metadata": {},
   "outputs": [],
   "source": [
    "def parser4(row):\n",
    "    file_name = os.path.join(\"special_metal\", 'meta ('+ str(row)+')' + '.wav')\n",
    "    try:\n",
    "        Y, sample_rate = librosa.load(file_name, res_type='kaiser_fast',sr=16000,mono=True) \n",
    "        pre_emphasis = 2\n",
    "        X = np.append(Y[0], Y[1:] - pre_emphasis * Y[:-1])\n",
    "        stft = np.abs(librosa.stft(X,n_fft=512,hop_length=168,win_length=500))\n",
    "        mfccs = np.mean(librosa.feature.mfcc(y=X, sr=sample_rate, n_mfcc=64).T,axis=0) \n",
    "        zcr = np.mean(librosa.feature.zero_crossing_rate(X, frame_length=512, hop_length=168, center=True).T,axis=0) \n",
    "        rms=np.mean(librosa.feature.rms(X, frame_length=512, hop_length=168, center=True, pad_mode='reflect').T,axis=0)\n",
    "        sc = np.mean(librosa.feature.spectral_centroid(X, sr=sample_rate).T,axis=0)\n",
    "        sr =  np.mean(librosa.feature.spectral_rolloff(X, sr=sample_rate).T,axis=0)\n",
    "    except Exception as e:\n",
    "        print(\"Error encountered while parsing file: \", file)\n",
    "        return None, None\n",
    "    \n",
    "    print(row)\n",
    "    return mfccs,rms,zcr"
   ]
  },
  {
   "cell_type": "code",
   "execution_count": 42,
   "metadata": {},
   "outputs": [],
   "source": [
    "def feature_test():\n",
    "    features=np.empty((0,64))\n",
    "    y_test=np.empty((0,1))\n",
    "    for i in range(1,184):\n",
    "        mfccs=parser3(i)\n",
    "        #ext_features = np.hstack([mfccs,rms,zcr])\n",
    "        features = np.vstack([features,mfccs])\n",
    "        y_test=np.vstack((y_test,1))\n",
    "      \n",
    "    return features,y_test"
   ]
  },
  {
   "cell_type": "code",
   "execution_count": 47,
   "metadata": {},
   "outputs": [],
   "source": [
    "def feature_test1():\n",
    "    features=np.empty((0,66))\n",
    "    y_test=np.empty((0,1))\n",
    "    for i in range(1,150):\n",
    "        mfccs,rms,zcr=parser4(i)\n",
    "        ext_features = np.hstack([mfccs,rms,zcr])\n",
    "        features = np.vstack([features,ext_features])\n",
    "        y_test=np.vstack((y_test,1))\n",
    "      \n",
    "    return features,y_test"
   ]
  },
  {
   "cell_type": "code",
   "execution_count": 43,
   "metadata": {
    "scrolled": true
   },
   "outputs": [
    {
     "name": "stdout",
     "output_type": "stream",
     "text": [
      "1\n",
      "2\n",
      "3\n",
      "4\n",
      "5\n",
      "6\n",
      "7\n",
      "8\n",
      "9\n",
      "10\n",
      "11\n",
      "12\n",
      "13\n",
      "14\n",
      "15\n",
      "16\n",
      "17\n",
      "18\n",
      "19\n",
      "20\n",
      "21\n",
      "22\n",
      "23\n",
      "24\n",
      "25\n",
      "26\n",
      "27\n",
      "28\n",
      "29\n",
      "30\n",
      "31\n",
      "32\n",
      "33\n",
      "34\n",
      "35\n",
      "36\n",
      "37\n",
      "38\n",
      "39\n",
      "40\n",
      "41\n",
      "42\n",
      "43\n",
      "44\n",
      "45\n",
      "46\n",
      "47\n",
      "48\n",
      "49\n",
      "50\n",
      "51\n",
      "52\n",
      "53\n",
      "54\n",
      "55\n",
      "56\n",
      "57\n",
      "58\n",
      "59\n",
      "60\n",
      "61\n",
      "62\n",
      "63\n",
      "64\n",
      "65\n",
      "66\n",
      "67\n",
      "68\n",
      "69\n",
      "70\n",
      "71\n",
      "72\n",
      "73\n",
      "74\n",
      "75\n",
      "76\n",
      "77\n",
      "78\n",
      "79\n",
      "80\n",
      "81\n",
      "82\n",
      "83\n",
      "84\n",
      "85\n",
      "86\n",
      "87\n",
      "88\n",
      "89\n",
      "90\n",
      "91\n",
      "92\n",
      "93\n",
      "94\n",
      "95\n",
      "96\n",
      "97\n",
      "98\n",
      "99\n",
      "100\n",
      "101\n",
      "102\n",
      "103\n",
      "104\n",
      "105\n",
      "106\n",
      "107\n",
      "108\n",
      "109\n",
      "110\n",
      "111\n",
      "112\n",
      "113\n",
      "114\n",
      "115\n",
      "116\n",
      "117\n",
      "118\n",
      "119\n",
      "120\n",
      "121\n",
      "122\n",
      "123\n",
      "124\n",
      "125\n",
      "126\n",
      "127\n",
      "128\n",
      "129\n",
      "130\n",
      "131\n",
      "132\n",
      "133\n",
      "134\n",
      "135\n",
      "136\n",
      "137\n",
      "138\n",
      "139\n",
      "140\n",
      "141\n",
      "142\n",
      "143\n",
      "144\n",
      "145\n",
      "146\n",
      "147\n",
      "148\n",
      "149\n",
      "150\n",
      "151\n",
      "152\n",
      "153\n",
      "154\n",
      "155\n",
      "156\n",
      "157\n",
      "158\n",
      "159\n",
      "160\n",
      "161\n",
      "162\n",
      "163\n",
      "164\n",
      "165\n",
      "166\n",
      "167\n",
      "168\n",
      "169\n",
      "170\n",
      "171\n",
      "172\n",
      "173\n",
      "174\n",
      "175\n",
      "176\n",
      "177\n",
      "178\n",
      "179\n",
      "180\n",
      "181\n",
      "182\n",
      "183\n"
     ]
    }
   ],
   "source": [
    "test_feature,y_test=feature_test()"
   ]
  },
  {
   "cell_type": "code",
   "execution_count": 49,
   "metadata": {
    "scrolled": true
   },
   "outputs": [
    {
     "name": "stdout",
     "output_type": "stream",
     "text": [
      "1\n",
      "2\n",
      "3\n",
      "4\n",
      "5\n",
      "6\n",
      "7\n",
      "8\n",
      "9\n",
      "10\n",
      "11\n",
      "12\n",
      "13\n",
      "14\n",
      "15\n",
      "16\n",
      "17\n",
      "18\n",
      "19\n",
      "20\n",
      "21\n",
      "22\n",
      "23\n",
      "24\n",
      "25\n",
      "26\n",
      "27\n",
      "28\n",
      "29\n",
      "30\n",
      "31\n",
      "32\n",
      "33\n",
      "34\n",
      "35\n",
      "36\n",
      "37\n",
      "38\n",
      "39\n",
      "40\n",
      "41\n",
      "42\n",
      "43\n",
      "44\n",
      "45\n",
      "46\n",
      "47\n",
      "48\n",
      "49\n",
      "50\n",
      "51\n",
      "52\n",
      "53\n",
      "54\n",
      "55\n",
      "56\n",
      "57\n",
      "58\n",
      "59\n",
      "60\n",
      "61\n",
      "62\n",
      "63\n",
      "64\n",
      "65\n",
      "66\n",
      "67\n",
      "68\n",
      "69\n",
      "70\n",
      "71\n",
      "72\n",
      "73\n",
      "74\n",
      "75\n",
      "76\n",
      "77\n",
      "78\n",
      "79\n",
      "80\n",
      "81\n",
      "82\n",
      "83\n",
      "84\n",
      "85\n",
      "86\n",
      "87\n",
      "88\n",
      "89\n",
      "90\n",
      "91\n",
      "92\n",
      "93\n",
      "94\n",
      "95\n",
      "96\n",
      "97\n",
      "98\n",
      "99\n",
      "100\n",
      "101\n",
      "102\n",
      "103\n",
      "104\n",
      "105\n",
      "106\n",
      "107\n",
      "108\n",
      "109\n",
      "110\n",
      "111\n",
      "112\n",
      "113\n",
      "114\n",
      "115\n",
      "116\n",
      "117\n",
      "118\n",
      "119\n",
      "120\n",
      "121\n",
      "122\n",
      "123\n",
      "124\n",
      "125\n",
      "126\n",
      "127\n",
      "128\n",
      "129\n",
      "130\n",
      "131\n",
      "132\n",
      "133\n",
      "134\n",
      "135\n",
      "136\n",
      "137\n",
      "138\n",
      "139\n",
      "140\n",
      "141\n",
      "142\n",
      "143\n",
      "144\n",
      "145\n",
      "146\n",
      "147\n",
      "148\n",
      "149\n"
     ]
    }
   ],
   "source": [
    "test_f,test_l=feature_test1()"
   ]
  },
  {
   "cell_type": "code",
   "execution_count": 44,
   "metadata": {},
   "outputs": [
    {
     "name": "stdout",
     "output_type": "stream",
     "text": [
      "[1. 0. 0. 0. 0. 0. 0. 0. 0. 0. 0. 0. 0. 0. 0. 0. 0. 0. 0. 0. 0. 0. 0. 0.\n",
      " 0. 0. 0. 0. 0. 0. 0. 0. 0. 0. 0. 0. 0. 0. 0. 0. 0. 0. 0. 0. 0. 0. 0. 0.\n",
      " 0. 0. 0. 0. 0. 0. 0. 0. 0. 0. 0. 0. 0. 0. 0. 0. 0. 0. 0. 0. 0. 0. 0. 0.\n",
      " 0. 0. 0. 0. 0. 0. 0. 0. 0. 0. 0. 0. 0. 0. 0. 0. 0. 0. 0. 0. 0. 0. 0. 0.\n",
      " 0. 0. 0. 0. 0. 0. 0. 0. 0. 0. 0. 0. 0. 0. 0. 0. 0. 0. 0. 0. 0. 1. 0. 0.\n",
      " 0. 0. 0. 0. 0. 0. 0. 0. 0. 0. 0. 0. 0. 0. 0. 0. 0. 0. 0. 0. 0. 0. 0. 0.\n",
      " 0. 0. 0. 0. 0. 0. 0. 0. 0. 0. 0. 0. 0. 0. 0. 0. 0. 0. 0. 0. 0. 0. 0. 0.\n",
      " 0. 0. 0. 0. 0. 0. 0. 0. 0. 0. 0. 0. 0. 0. 0.]\n"
     ]
    }
   ],
   "source": [
    "a=clf.predict(test_feature)\n",
    "print(a)"
   ]
  },
  {
   "cell_type": "code",
   "execution_count": 45,
   "metadata": {},
   "outputs": [
    {
     "name": "stdout",
     "output_type": "stream",
     "text": [
      "1   1.0\n",
      "2   0.0\n",
      "3   0.0\n",
      "4   0.0\n",
      "5   0.0\n",
      "6   0.0\n",
      "7   0.0\n",
      "8   0.0\n",
      "9   0.0\n",
      "10   0.0\n",
      "11   0.0\n",
      "12   0.0\n",
      "13   0.0\n",
      "14   0.0\n",
      "15   0.0\n",
      "16   0.0\n",
      "17   0.0\n",
      "18   0.0\n",
      "19   0.0\n",
      "20   0.0\n",
      "21   0.0\n",
      "22   0.0\n",
      "23   0.0\n",
      "24   0.0\n",
      "25   0.0\n",
      "26   0.0\n",
      "27   0.0\n",
      "28   0.0\n",
      "29   0.0\n",
      "30   0.0\n",
      "31   0.0\n",
      "32   0.0\n",
      "33   0.0\n",
      "34   0.0\n",
      "35   0.0\n",
      "36   0.0\n",
      "37   0.0\n",
      "38   0.0\n",
      "39   0.0\n",
      "40   0.0\n",
      "41   0.0\n",
      "42   0.0\n",
      "43   0.0\n",
      "44   0.0\n",
      "45   0.0\n",
      "46   0.0\n",
      "47   0.0\n",
      "48   0.0\n",
      "49   0.0\n",
      "50   0.0\n",
      "51   0.0\n",
      "52   0.0\n",
      "53   0.0\n",
      "54   0.0\n",
      "55   0.0\n",
      "56   0.0\n",
      "57   0.0\n",
      "58   0.0\n",
      "59   0.0\n",
      "60   0.0\n",
      "61   0.0\n",
      "62   0.0\n",
      "63   0.0\n",
      "64   0.0\n",
      "65   0.0\n",
      "66   0.0\n",
      "67   0.0\n",
      "68   0.0\n",
      "69   0.0\n",
      "70   0.0\n",
      "71   0.0\n",
      "72   0.0\n",
      "73   0.0\n",
      "74   0.0\n",
      "75   0.0\n",
      "76   0.0\n",
      "77   0.0\n",
      "78   0.0\n",
      "79   0.0\n",
      "80   0.0\n",
      "81   0.0\n",
      "82   0.0\n",
      "83   0.0\n",
      "84   0.0\n",
      "85   0.0\n",
      "86   0.0\n",
      "87   0.0\n",
      "88   0.0\n",
      "89   0.0\n",
      "90   0.0\n",
      "91   0.0\n",
      "92   0.0\n",
      "93   0.0\n",
      "94   0.0\n",
      "95   0.0\n",
      "96   0.0\n",
      "97   0.0\n",
      "98   0.0\n",
      "99   0.0\n",
      "100   0.0\n",
      "101   0.0\n",
      "102   0.0\n",
      "103   0.0\n",
      "104   0.0\n",
      "105   0.0\n",
      "106   0.0\n",
      "107   0.0\n",
      "108   0.0\n",
      "109   0.0\n",
      "110   0.0\n",
      "111   0.0\n",
      "112   0.0\n",
      "113   0.0\n",
      "114   0.0\n",
      "115   0.0\n",
      "116   0.0\n",
      "117   0.0\n",
      "118   1.0\n",
      "119   0.0\n",
      "120   0.0\n",
      "121   0.0\n",
      "122   0.0\n",
      "123   0.0\n",
      "124   0.0\n",
      "125   0.0\n",
      "126   0.0\n",
      "127   0.0\n",
      "128   0.0\n",
      "129   0.0\n",
      "130   0.0\n",
      "131   0.0\n",
      "132   0.0\n",
      "133   0.0\n",
      "134   0.0\n",
      "135   0.0\n",
      "136   0.0\n",
      "137   0.0\n",
      "138   0.0\n",
      "139   0.0\n",
      "140   0.0\n",
      "141   0.0\n",
      "142   0.0\n",
      "143   0.0\n",
      "144   0.0\n",
      "145   0.0\n",
      "146   0.0\n",
      "147   0.0\n",
      "148   0.0\n",
      "149   0.0\n",
      "150   0.0\n",
      "151   0.0\n",
      "152   0.0\n",
      "153   0.0\n",
      "154   0.0\n",
      "155   0.0\n",
      "156   0.0\n",
      "157   0.0\n",
      "158   0.0\n",
      "159   0.0\n",
      "160   0.0\n",
      "161   0.0\n",
      "162   0.0\n",
      "163   0.0\n",
      "164   0.0\n",
      "165   0.0\n",
      "166   0.0\n",
      "167   0.0\n",
      "168   0.0\n",
      "169   0.0\n",
      "170   0.0\n",
      "171   0.0\n",
      "172   0.0\n",
      "173   0.0\n",
      "174   0.0\n",
      "175   0.0\n",
      "176   0.0\n",
      "177   0.0\n",
      "178   0.0\n",
      "179   0.0\n",
      "180   0.0\n",
      "181   0.0\n",
      "182   0.0\n",
      "183   0.0\n"
     ]
    }
   ],
   "source": [
    "for i,each in enumerate(a,start=1):\n",
    "    print (\"{}   {}\".format(i,each))"
   ]
  },
  {
   "cell_type": "code",
   "execution_count": 25,
   "metadata": {},
   "outputs": [
    {
     "name": "stdout",
     "output_type": "stream",
     "text": [
      "[0, 0, 0, 1, 1, 1, 1, 1, 1, 1, 1, 1, 1, 1, 1, 1, 1, 0, 0, 0, 0, 1, 0, 0, 1, 0, 1, 0, 0, 1, 0, 0, 0, 0, 0, 0, 0, 0, 0, 1, 0, 1, 0, 1, 0, 0, 1, 0, 1, 0, 0, 0, 0, 1, 1, 1, 0, 1, 0, 0, 1, 0, 1, 1, 1, 1, 1, 1, 1, 1, 1, 1, 1, 1, 1, 1, 0, 0, 0, 0, 0, 0, 1, 0, 0, 1, 0, 0, 0, 0, 1, 0, 0, 0, 0, 0, 0, 0, 0, 0, 0, 0, 0, 0, 0, 1, 1, 0, 0, 0, 1, 1, 1, 0, 0, 1, 1, 0, 1]\n"
     ]
    },
    {
     "data": {
      "text/plain": [
       "(array([0., 1.]), array([67, 52], dtype=int64))"
      ]
     },
     "execution_count": 25,
     "metadata": {},
     "output_type": "execute_result"
    }
   ],
   "source": [
    "prob=clf.predict_proba(test_feature)\n",
    "new_list=[]\n",
    "\n",
    "for i in range(prob.shape[0]):\n",
    "    if prob[i][1]<0.4:\n",
    "        new_list.append(0)\n",
    "    else:\n",
    "        new_list.append(1)\n",
    "print(new_list)     \n",
    "np.unique(a,return_counts=True)"
   ]
  },
  {
   "cell_type": "code",
   "execution_count": 51,
   "metadata": {},
   "outputs": [
    {
     "data": {
      "text/plain": [
       "array([0., 0., 0., 0., 0., 0., 0., 0., 0., 0., 0., 0., 0., 0., 0., 0., 0.,\n",
       "       0., 0., 0., 0., 0., 0., 0., 0., 0., 0., 0., 0., 0., 0., 0., 0., 0.,\n",
       "       0., 0., 0., 0., 0., 0., 0., 0., 0., 0., 0., 0., 0., 0., 0., 0., 0.,\n",
       "       0., 0., 0., 0., 0., 0., 0., 0., 0., 0., 0., 0., 0., 0., 0., 0., 0.,\n",
       "       0., 0., 0., 0., 0., 0., 0., 0., 0., 0., 0., 0., 0., 0., 0., 0., 0.,\n",
       "       0., 0., 0., 0., 0., 0., 0., 0., 0., 0., 0., 0., 0., 0., 0., 0., 0.,\n",
       "       0., 0., 0., 0., 0., 0., 0., 0., 0., 0., 0., 0., 0., 0., 0., 0., 0.,\n",
       "       0., 0., 0., 0., 0., 0., 0., 0., 0., 0., 0., 0., 0., 0., 0., 0., 0.,\n",
       "       0., 0., 0., 0., 0., 0., 0., 0., 0., 0., 0., 0., 0.])"
      ]
     },
     "execution_count": 51,
     "metadata": {},
     "output_type": "execute_result"
    }
   ],
   "source": [
    "clf.predict(test_f)"
   ]
  },
  {
   "cell_type": "code",
   "execution_count": 32,
   "metadata": {},
   "outputs": [
    {
     "name": "stdout",
     "output_type": "stream",
     "text": [
      "[0, 0, 0, 0, 0, 0, 0, 0, 0, 0, 0, 0, 0, 0, 0, 0, 1, 0, 0, 1, 0, 0, 0, 0, 0, 0, 0, 0, 0, 0, 0, 0, 0, 0, 0, 0, 1, 0, 0, 0, 1, 0, 0, 0, 0, 0, 0, 0, 0, 0, 0, 1, 0, 0, 0, 0, 0, 0, 0, 0, 0, 0, 0, 0, 0, 0, 0, 0, 0, 1, 0, 0, 0, 1, 0, 0, 0, 0, 0, 1, 0, 0, 0, 0, 0, 0, 0, 0, 0, 0, 0, 0, 0, 0, 0, 0, 0, 0, 0, 0, 0, 0, 0, 0, 0, 0, 0, 0, 0, 0, 0, 0, 0, 0, 0, 0, 0, 0, 0, 0, 0, 0, 0, 0, 0, 0, 0, 0, 0, 0, 0, 0, 0, 0, 0, 0, 0, 0, 0, 0, 0, 0, 0, 0, 0, 0, 0, 0, 0]\n"
     ]
    },
    {
     "data": {
      "text/plain": [
       "(array([0, 1]), array([141,   8], dtype=int64))"
      ]
     },
     "execution_count": 32,
     "metadata": {},
     "output_type": "execute_result"
    }
   ],
   "source": [
    "prob=clf.predict_proba(test_f)\n",
    "new_list=[]\n",
    "\n",
    "for i in range(prob.shape[0]):\n",
    "    if prob[i][1]<0.8:\n",
    "        new_list.append(0)\n",
    "    else:\n",
    "        new_list.append(1)\n",
    "print(new_list)     \n",
    "np.unique(new_list,return_counts=True)"
   ]
  },
  {
   "cell_type": "code",
   "execution_count": 125,
   "metadata": {},
   "outputs": [
    {
     "data": {
      "text/plain": [
       "array([0., 0., 0., 0., 0., 0., 0., 0., 0., 0., 0., 0., 0., 0., 0., 0., 1.,\n",
       "       0., 1., 1., 1., 1., 1., 1., 1., 1., 1., 0., 0., 0., 0., 0., 0., 1.,\n",
       "       1., 1., 1., 1., 1., 1., 1., 1., 1., 1., 1., 1., 1., 1., 1., 1., 1.,\n",
       "       1., 1., 0., 1., 1., 1., 1., 1., 1., 1., 1., 1., 1., 1., 1., 1., 1.,\n",
       "       1., 1., 1., 1., 1., 1., 1., 1., 1., 1., 1., 1., 1., 1., 1., 0., 1.,\n",
       "       1., 0., 0., 0., 1., 1., 1., 1., 1., 1., 1., 1., 0., 0., 0., 0., 0.,\n",
       "       0., 0., 0., 0., 0., 0., 0., 0., 0., 0., 0., 0., 0., 0., 0., 0., 0.,\n",
       "       0., 0., 0., 0., 0., 0., 0., 0., 0., 0., 0., 0., 0., 0., 0., 0., 0.,\n",
       "       0., 0., 0., 0., 0., 0., 0., 0., 0., 0., 0., 0., 0.])"
      ]
     },
     "execution_count": 125,
     "metadata": {},
     "output_type": "execute_result"
    }
   ],
   "source": [
    "clf.predict(test_feature)"
   ]
  },
  {
   "cell_type": "code",
   "execution_count": 117,
   "metadata": {},
   "outputs": [
    {
     "name": "stdout",
     "output_type": "stream",
     "text": [
      "Mean Absolute Error: 0.84 degrees.\n"
     ]
    }
   ],
   "source": [
    "predictions = clf.predict(test_feature)\n",
    "# Calculate the absolute errors\n",
    "errors = abs(predictions - y_test)\n",
    "# Print out the mean absolute error (mae)\n",
    "print('Mean Absolute Error:', round(np.mean(errors), 2), 'degrees.')"
   ]
  },
  {
   "cell_type": "code",
   "execution_count": 96,
   "metadata": {},
   "outputs": [
    {
     "name": "stdout",
     "output_type": "stream",
     "text": [
      "Accuracy: nan %.\n"
     ]
    },
    {
     "name": "stderr",
     "output_type": "stream",
     "text": [
      "C:\\ProgramData\\Anaconda3\\lib\\site-packages\\ipykernel_launcher.py:1: RuntimeWarning: divide by zero encountered in true_divide\n",
      "  \"\"\"Entry point for launching an IPython kernel.\n",
      "C:\\ProgramData\\Anaconda3\\lib\\site-packages\\ipykernel_launcher.py:1: RuntimeWarning: invalid value encountered in true_divide\n",
      "  \"\"\"Entry point for launching an IPython kernel.\n"
     ]
    }
   ],
   "source": [
    "mape = 100 * (errors / y_test)\n",
    "accuracy = 100 - np.mean(mape)\n",
    "print('Accuracy:', round(accuracy, 2), '%.')"
   ]
  },
  {
   "cell_type": "code",
   "execution_count": 52,
   "metadata": {},
   "outputs": [
    {
     "name": "stdout",
     "output_type": "stream",
     "text": [
      "acc=0.00000\n"
     ]
    }
   ],
   "source": [
    "acc = clf.score(test_f, test_l)\n",
    "print(\"acc=%0.5f\" % acc)"
   ]
  },
  {
   "cell_type": "code",
   "execution_count": 53,
   "metadata": {},
   "outputs": [
    {
     "name": "stdout",
     "output_type": "stream",
     "text": [
      "acc=0.00000\n"
     ]
    }
   ],
   "source": [
    "acc = clf.score(test_feature, y_test)\n",
    "print(\"acc=%0.5f\" % acc)"
   ]
  },
  {
   "cell_type": "code",
   "execution_count": 5,
   "metadata": {
    "scrolled": true
   },
   "outputs": [
    {
     "name": "stdout",
     "output_type": "stream",
     "text": [
      "# Tuning hyper-parameters for precision\n",
      "\n",
      "Best parameters set found on development set:\n",
      "\n",
      "{'C': 15, 'degree': 2, 'gamma': 0.0001, 'kernel': 'rbf'}\n",
      "\n",
      "Grid scores on development set:\n",
      "\n",
      "0.888 (+/-0.019) for {'C': 10, 'degree': 2, 'gamma': 0.001, 'kernel': 'rbf'}\n",
      "0.919 (+/-0.042) for {'C': 10, 'degree': 2, 'gamma': 0.0001, 'kernel': 'rbf'}\n",
      "0.860 (+/-0.022) for {'C': 10, 'degree': 2, 'gamma': 1e-05, 'kernel': 'rbf'}\n",
      "0.888 (+/-0.019) for {'C': 10, 'degree': 3, 'gamma': 0.001, 'kernel': 'rbf'}\n",
      "0.919 (+/-0.042) for {'C': 10, 'degree': 3, 'gamma': 0.0001, 'kernel': 'rbf'}\n",
      "0.860 (+/-0.022) for {'C': 10, 'degree': 3, 'gamma': 1e-05, 'kernel': 'rbf'}\n",
      "0.888 (+/-0.019) for {'C': 10, 'degree': 4, 'gamma': 0.001, 'kernel': 'rbf'}\n",
      "0.919 (+/-0.042) for {'C': 10, 'degree': 4, 'gamma': 0.0001, 'kernel': 'rbf'}\n",
      "0.860 (+/-0.022) for {'C': 10, 'degree': 4, 'gamma': 1e-05, 'kernel': 'rbf'}\n",
      "0.888 (+/-0.019) for {'C': 20, 'degree': 2, 'gamma': 0.001, 'kernel': 'rbf'}\n",
      "0.917 (+/-0.029) for {'C': 20, 'degree': 2, 'gamma': 0.0001, 'kernel': 'rbf'}\n",
      "0.872 (+/-0.026) for {'C': 20, 'degree': 2, 'gamma': 1e-05, 'kernel': 'rbf'}\n",
      "0.888 (+/-0.019) for {'C': 20, 'degree': 3, 'gamma': 0.001, 'kernel': 'rbf'}\n",
      "0.917 (+/-0.029) for {'C': 20, 'degree': 3, 'gamma': 0.0001, 'kernel': 'rbf'}\n",
      "0.872 (+/-0.026) for {'C': 20, 'degree': 3, 'gamma': 1e-05, 'kernel': 'rbf'}\n",
      "0.888 (+/-0.019) for {'C': 20, 'degree': 4, 'gamma': 0.001, 'kernel': 'rbf'}\n",
      "0.917 (+/-0.029) for {'C': 20, 'degree': 4, 'gamma': 0.0001, 'kernel': 'rbf'}\n",
      "0.872 (+/-0.026) for {'C': 20, 'degree': 4, 'gamma': 1e-05, 'kernel': 'rbf'}\n",
      "0.888 (+/-0.019) for {'C': 15, 'degree': 2, 'gamma': 0.001, 'kernel': 'rbf'}\n",
      "0.920 (+/-0.033) for {'C': 15, 'degree': 2, 'gamma': 0.0001, 'kernel': 'rbf'}\n",
      "0.869 (+/-0.025) for {'C': 15, 'degree': 2, 'gamma': 1e-05, 'kernel': 'rbf'}\n",
      "0.888 (+/-0.019) for {'C': 15, 'degree': 3, 'gamma': 0.001, 'kernel': 'rbf'}\n",
      "0.920 (+/-0.033) for {'C': 15, 'degree': 3, 'gamma': 0.0001, 'kernel': 'rbf'}\n",
      "0.869 (+/-0.025) for {'C': 15, 'degree': 3, 'gamma': 1e-05, 'kernel': 'rbf'}\n",
      "0.888 (+/-0.019) for {'C': 15, 'degree': 4, 'gamma': 0.001, 'kernel': 'rbf'}\n",
      "0.920 (+/-0.033) for {'C': 15, 'degree': 4, 'gamma': 0.0001, 'kernel': 'rbf'}\n",
      "0.869 (+/-0.025) for {'C': 15, 'degree': 4, 'gamma': 1e-05, 'kernel': 'rbf'}\n",
      "\n",
      "Detailed classification report:\n",
      "\n",
      "The model is trained on the full development set.\n",
      "The scores are computed on the full evaluation set.\n",
      "\n",
      "              precision    recall  f1-score   support\n",
      "\n",
      "         0.0       0.89      0.92      0.90       432\n",
      "         1.0       0.94      0.90      0.92       499\n",
      "         2.0       0.96      0.98      0.97       387\n",
      "\n",
      "   micro avg       0.93      0.93      0.93      1318\n",
      "   macro avg       0.93      0.93      0.93      1318\n",
      "weighted avg       0.93      0.93      0.93      1318\n",
      "\n",
      "\n",
      "# Tuning hyper-parameters for recall\n",
      "\n",
      "Best parameters set found on development set:\n",
      "\n",
      "{'C': 15, 'degree': 2, 'gamma': 0.0001, 'kernel': 'rbf'}\n",
      "\n",
      "Grid scores on development set:\n",
      "\n",
      "0.876 (+/-0.022) for {'C': 10, 'degree': 2, 'gamma': 0.001, 'kernel': 'rbf'}\n",
      "0.920 (+/-0.042) for {'C': 10, 'degree': 2, 'gamma': 0.0001, 'kernel': 'rbf'}\n",
      "0.861 (+/-0.022) for {'C': 10, 'degree': 2, 'gamma': 1e-05, 'kernel': 'rbf'}\n",
      "0.876 (+/-0.022) for {'C': 10, 'degree': 3, 'gamma': 0.001, 'kernel': 'rbf'}\n",
      "0.920 (+/-0.042) for {'C': 10, 'degree': 3, 'gamma': 0.0001, 'kernel': 'rbf'}\n",
      "0.861 (+/-0.022) for {'C': 10, 'degree': 3, 'gamma': 1e-05, 'kernel': 'rbf'}\n",
      "0.876 (+/-0.022) for {'C': 10, 'degree': 4, 'gamma': 0.001, 'kernel': 'rbf'}\n",
      "0.920 (+/-0.042) for {'C': 10, 'degree': 4, 'gamma': 0.0001, 'kernel': 'rbf'}\n",
      "0.861 (+/-0.022) for {'C': 10, 'degree': 4, 'gamma': 1e-05, 'kernel': 'rbf'}\n",
      "0.876 (+/-0.022) for {'C': 20, 'degree': 2, 'gamma': 0.001, 'kernel': 'rbf'}\n",
      "0.917 (+/-0.030) for {'C': 20, 'degree': 2, 'gamma': 0.0001, 'kernel': 'rbf'}\n",
      "0.873 (+/-0.025) for {'C': 20, 'degree': 2, 'gamma': 1e-05, 'kernel': 'rbf'}\n",
      "0.876 (+/-0.022) for {'C': 20, 'degree': 3, 'gamma': 0.001, 'kernel': 'rbf'}\n",
      "0.917 (+/-0.030) for {'C': 20, 'degree': 3, 'gamma': 0.0001, 'kernel': 'rbf'}\n",
      "0.873 (+/-0.025) for {'C': 20, 'degree': 3, 'gamma': 1e-05, 'kernel': 'rbf'}\n",
      "0.876 (+/-0.022) for {'C': 20, 'degree': 4, 'gamma': 0.001, 'kernel': 'rbf'}\n",
      "0.917 (+/-0.030) for {'C': 20, 'degree': 4, 'gamma': 0.0001, 'kernel': 'rbf'}\n",
      "0.873 (+/-0.025) for {'C': 20, 'degree': 4, 'gamma': 1e-05, 'kernel': 'rbf'}\n",
      "0.876 (+/-0.022) for {'C': 15, 'degree': 2, 'gamma': 0.001, 'kernel': 'rbf'}\n",
      "0.920 (+/-0.034) for {'C': 15, 'degree': 2, 'gamma': 0.0001, 'kernel': 'rbf'}\n",
      "0.870 (+/-0.026) for {'C': 15, 'degree': 2, 'gamma': 1e-05, 'kernel': 'rbf'}\n",
      "0.876 (+/-0.022) for {'C': 15, 'degree': 3, 'gamma': 0.001, 'kernel': 'rbf'}\n",
      "0.920 (+/-0.034) for {'C': 15, 'degree': 3, 'gamma': 0.0001, 'kernel': 'rbf'}\n",
      "0.870 (+/-0.026) for {'C': 15, 'degree': 3, 'gamma': 1e-05, 'kernel': 'rbf'}\n",
      "0.876 (+/-0.022) for {'C': 15, 'degree': 4, 'gamma': 0.001, 'kernel': 'rbf'}\n",
      "0.920 (+/-0.034) for {'C': 15, 'degree': 4, 'gamma': 0.0001, 'kernel': 'rbf'}\n",
      "0.870 (+/-0.026) for {'C': 15, 'degree': 4, 'gamma': 1e-05, 'kernel': 'rbf'}\n",
      "\n",
      "Detailed classification report:\n",
      "\n",
      "The model is trained on the full development set.\n",
      "The scores are computed on the full evaluation set.\n",
      "\n",
      "              precision    recall  f1-score   support\n",
      "\n",
      "         0.0       0.89      0.92      0.90       432\n",
      "         1.0       0.94      0.90      0.92       499\n",
      "         2.0       0.96      0.98      0.97       387\n",
      "\n",
      "   micro avg       0.93      0.93      0.93      1318\n",
      "   macro avg       0.93      0.93      0.93      1318\n",
      "weighted avg       0.93      0.93      0.93      1318\n",
      "\n",
      "\n"
     ]
    }
   ],
   "source": [
    "from sklearn.model_selection import train_test_split\n",
    "from sklearn.model_selection import GridSearchCV\n",
    "from sklearn.metrics import classification_report\n",
    "X_train, X_test, y_train, y_test = train_test_split(f, l.ravel(), test_size=0.4, random_state=0)\n",
    "# Set the parameters by cross-validation\n",
    "tuned_parameters = [{'kernel': ['rbf'], 'gamma': [1e-3, 1e-4,1e-5],'C': [10,20,15],'degree':[2,3,4]}]\n",
    "                     \n",
    "scores = ['precision', 'recall']\n",
    "\n",
    "for score in scores:\n",
    "    print(\"# Tuning hyper-parameters for %s\" % score)\n",
    "    print('')\n",
    "\n",
    "    clf = GridSearchCV(SVC(), tuned_parameters, cv=5,scoring='%s_macro' % score)\n",
    "    clf.fit(X_train, y_train)\n",
    "\n",
    "    print(\"Best parameters set found on development set:\")\n",
    "    print('')\n",
    "    print(clf.best_params_)\n",
    "    print('')\n",
    "    print(\"Grid scores on development set:\")\n",
    "    print('')\n",
    "    means = clf.cv_results_['mean_test_score']\n",
    "    stds = clf.cv_results_['std_test_score']\n",
    "    for mean, std, params in zip(means, stds, clf.cv_results_['params']):\n",
    "        print(\"%0.3f (+/-%0.03f) for %r\"% (mean, std * 2, params))\n",
    "    print('')\n",
    "    print(\"Detailed classification report:\")\n",
    "    print('')\n",
    "    print(\"The model is trained on the full development set.\")\n",
    "    print(\"The scores are computed on the full evaluation set.\")\n",
    "    print('')\n",
    "    y_true, y_pred = y_test, clf.predict(X_test)\n",
    "    print(classification_report(y_true, y_pred))\n",
    "    print('')"
   ]
  },
  {
   "cell_type": "code",
   "execution_count": null,
   "metadata": {},
   "outputs": [],
   "source": []
  }
 ],
 "metadata": {
  "kernelspec": {
   "display_name": "Python 3",
   "language": "python",
   "name": "python3"
  },
  "language_info": {
   "codemirror_mode": {
    "name": "ipython",
    "version": 3
   },
   "file_extension": ".py",
   "mimetype": "text/x-python",
   "name": "python",
   "nbconvert_exporter": "python",
   "pygments_lexer": "ipython3",
   "version": "3.7.3"
  }
 },
 "nbformat": 4,
 "nbformat_minor": 2
}
